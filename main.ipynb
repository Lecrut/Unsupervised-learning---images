{
 "cells": [
  {
   "cell_type": "markdown",
   "id": "13211f0a",
   "metadata": {},
   "source": [
    "### Projekt: Autoencoder + Klasteryzacja + Inpainting (szkielet)\n",
    "\n",
    "Importy"
   ]
  },
  {
   "cell_type": "code",
   "execution_count": null,
   "id": "971aec75",
   "metadata": {},
   "outputs": [],
   "source": [
    "from comet_ml import Experiment\n",
    "import torch\n",
    "import torch.nn as nn\n",
    "import torch.optim as optim\n",
    "from torch.utils.data import DataLoader, Dataset\n",
    "from torchvision import datasets, transforms\n",
    "from sklearn.cluster import KMeans\n",
    "import umap\n",
    "import matplotlib.pyplot as plt\n",
    "import numpy as np\n",
    "import os"
   ]
  },
  {
   "cell_type": "markdown",
   "id": "b14b786d",
   "metadata": {},
   "source": [
    "Importy z lokalnych plików"
   ]
  },
  {
   "cell_type": "code",
   "execution_count": null,
   "id": "e63ee41d",
   "metadata": {},
   "outputs": [],
   "source": [
    "from src.models import ConvAutoencoder\n",
    "from src.data import MaskedDataset, random_mask, rectangular_mask, noise_mask\n",
    "from src.utils import train_autoencoder, extract_latent_vectors, cluster_and_visualize, visualize_reconstructions"
   ]
  },
  {
   "cell_type": "markdown",
   "id": "e966b642",
   "metadata": {},
   "source": [
    "Konfiguracja Comet ML"
   ]
  },
  {
   "cell_type": "code",
   "execution_count": null,
   "id": "49c7bd8a",
   "metadata": {},
   "outputs": [],
   "source": [
    "experiment = Experiment(\n",
    "    api_key=\"TWOJ_API_KEY_TUTAJ\",  # ← wklej swój klucz\n",
    "    project_name=\"inpainting-autoencoder\",\n",
    "    workspace=\"twoj_login_comet\"    # np. 'lukasz_piotrek'\n",
    ")"
   ]
  },
  {
   "cell_type": "markdown",
   "id": "174b1376",
   "metadata": {},
   "source": [
    "Przygotowanie danych"
   ]
  },
  {
   "cell_type": "code",
   "execution_count": null,
   "id": "fb3f9b92",
   "metadata": {},
   "outputs": [],
   "source": [
    "transform = transforms.Compose([\n",
    "    transforms.Resize((256, 256)),\n",
    "    transforms.ToTensor()\n",
    "])\n",
    "\n",
    "train_data = datasets.CIFAR10(root=\"./data\", train=True, download=True, transform=transform)\n",
    "masked_data = MaskedDataset(train_data)\n",
    "train_loader = DataLoader(masked_data, batch_size=32, shuffle=True)"
   ]
  },
  {
   "cell_type": "markdown",
   "id": "f58cfe1f",
   "metadata": {},
   "source": [
    "Konfiguracja modelu i trenowanie"
   ]
  },
  {
   "cell_type": "code",
   "execution_count": null,
   "id": "f50eb316",
   "metadata": {},
   "outputs": [],
   "source": [
    "device = torch.device(\"cuda\" if torch.cuda.is_available() else \"cpu\")\n",
    "model = ConvAutoencoder(latent_dim=128).to(device)\n",
    "criterion = nn.MSELoss()\n",
    "optimizer = optim.Adam(model.parameters(), lr=1e-3)\n",
    "\n",
    "print(f\"Używane urządzenie: {device}\")\n",
    "print(f\"Liczba parametrów modelu: {sum(p.numel() for p in model.parameters()):,}\")"
   ]
  },
  {
   "cell_type": "markdown",
   "id": "f4e67c43",
   "metadata": {},
   "source": [
    "Logowanie parametrów do Comet ML"
   ]
  },
  {
   "cell_type": "code",
   "execution_count": null,
   "id": "fc614def",
   "metadata": {},
   "outputs": [],
   "source": [
    "experiment.log_parameters({\n",
    "    \"epochs\": 5,\n",
    "    \"batch_size\": 32,\n",
    "    \"learning_rate\": 1e-3,\n",
    "    \"latent_dim\": 128,\n",
    "    \"dataset\": \"CIFAR10\",\n",
    "    \"device\": str(device)\n",
    "})"
   ]
  },
  {
   "cell_type": "markdown",
   "id": "3f50f456",
   "metadata": {},
   "source": [
    "Trenowanie modelu"
   ]
  },
  {
   "cell_type": "code",
   "execution_count": null,
   "id": "96e8d0a8",
   "metadata": {},
   "outputs": [],
   "source": [
    "losses = train_autoencoder(\n",
    "    model=model,\n",
    "    train_loader=train_loader,\n",
    "    criterion=criterion,\n",
    "    optimizer=optimizer,\n",
    "    device=device,\n",
    "    epochs=5,\n",
    "    experiment=experiment\n",
    ")"
   ]
  },
  {
   "cell_type": "markdown",
   "id": "ed3e79df",
   "metadata": {},
   "source": [
    "Wizualizacja rekonstrukcji (przykładowych)"
   ]
  },
  {
   "cell_type": "code",
   "execution_count": null,
   "id": "c51ddbf0",
   "metadata": {},
   "outputs": [],
   "source": [
    "visualize_reconstructions(model, train_loader, device, n_samples=6)"
   ]
  },
  {
   "cell_type": "markdown",
   "id": "8b3e78c3",
   "metadata": {},
   "source": [
    "Klasteryzacja przestrzeni latentnej\n",
    "\n",
    "- Ekstraktowanie wektorów latentnych\n",
    "- max_samples=5000  # Ograniczenie dla szybszego przetwarzania"
   ]
  },
  {
   "cell_type": "code",
   "execution_count": null,
   "id": "c424e9e0",
   "metadata": {},
   "outputs": [],
   "source": [
    "latent_vectors = extract_latent_vectors(\n",
    "    model=model,\n",
    "    dataloader=DataLoader(train_data, batch_size=64),\n",
    "    device=device,\n",
    "    max_samples=5000  \n",
    ")\n",
    "\n",
    "print(f\"Wyekstraktowano {latent_vectors.shape[0]} wektorów latentnych\")"
   ]
  },
  {
   "cell_type": "markdown",
   "id": "79ffcb2d",
   "metadata": {},
   "source": [
    "Klasteryzacja i wizualizacja"
   ]
  },
  {
   "cell_type": "code",
   "execution_count": null,
   "id": "e591b51f",
   "metadata": {},
   "outputs": [],
   "source": [
    "kmeans, embedding, silhouette_score = cluster_and_visualize(\n",
    "    latent_vectors=latent_vectors,\n",
    "    n_clusters=10,\n",
    "    n_samples_umap=2000,\n",
    "    experiment=experiment\n",
    ")"
   ]
  },
  {
   "cell_type": "markdown",
   "id": "e1778edb",
   "metadata": {},
   "source": [
    "Zapis modelu i zakończenie"
   ]
  },
  {
   "cell_type": "code",
   "execution_count": null,
   "id": "67c17f4f",
   "metadata": {},
   "outputs": [],
   "source": [
    "torch.save(model.state_dict(), \"autoencoder.pth\")\n",
    "experiment.log_model(\"autoencoder\", \"autoencoder.pth\")\n",
    "\n",
    "print(\"✅ Model zapisany!\")\n",
    "print(\"📊 Eksperyment zakończony - sprawdź wyniki w Comet ML\")\n",
    "\n",
    "experiment.end()"
   ]
  }
 ],
 "metadata": {
  "kernelspec": {
   "display_name": "venv",
   "language": "python",
   "name": "python3"
  },
  "language_info": {
   "codemirror_mode": {
    "name": "ipython",
    "version": 3
   },
   "file_extension": ".py",
   "mimetype": "text/x-python",
   "name": "python",
   "nbconvert_exporter": "python",
   "pygments_lexer": "ipython3",
   "version": "3.13.5"
  }
 },
 "nbformat": 4,
 "nbformat_minor": 5
}
